{
 "cells": [
  {
   "cell_type": "markdown",
   "id": "sustained-maryland",
   "metadata": {},
   "source": [
    "#### Sikl operatorlari"
   ]
  },
  {
   "cell_type": "code",
   "execution_count": null,
   "id": "printable-forestry",
   "metadata": {},
   "outputs": [],
   "source": [
    "for i in range(1,5):\n",
    "    for j in range(1,5):\n",
    "        print(i+j, end=\"\\t\")\n",
    "    print(\"\\n\")"
   ]
  },
  {
   "cell_type": "code",
   "execution_count": 2,
   "id": "encouraging-stations",
   "metadata": {},
   "outputs": [
    {
     "name": "stdout",
     "output_type": "stream",
     "text": [
      "Chiqish uchun 'Y' klavishini bosingq\n",
      "n=10\n",
      "Summa(1,...,n) =  55\n",
      "Chiqish uchun 'Y' klavishini bosingu\n",
      "n=7\n",
      "Summa(1,...,n) =  28\n",
      "Chiqish uchun 'Y' klavishini bosingy\n"
     ]
    }
   ],
   "source": [
    "while True:\n",
    "    ch = input(\"Chiqish uchun 'Y' klavishini bosing\")\n",
    "    if ch.lower() == 'y':\n",
    "        break\n",
    "    s = 0\n",
    "    n = int(input('n='))\n",
    "    for i in range(1, n+1):\n",
    "        s += i\n",
    "    print(\"Summa(1,...,n) = \", s)"
   ]
  },
  {
   "cell_type": "markdown",
   "id": "affiliated-exchange",
   "metadata": {},
   "source": [
    "#### Istisno holatlari bilan ishlash"
   ]
  },
  {
   "cell_type": "code",
   "execution_count": 10,
   "id": "angry-simulation",
   "metadata": {},
   "outputs": [
    {
     "name": "stdout",
     "output_type": "stream",
     "text": [
      "Sonni kiriting: a1\n",
      "O'girish muvoffaqqiyatsiz amlaga oshiriladi invalid literal for int() with base 10: 'a1'\n",
      "Shu yerda xatoliklar nima yuz berishidan qatiy nazar instruksiyani bajar\n",
      "Son 1ni kiriting: k1\n",
      "O'girish muvoffaqqiyatsiz amlaga oshiriladi invalid literal for int() with base 10: 'k1'\n",
      "Shu yerda xatoliklar nima yuz berishidan qatiy nazar instruksiyani bajar\n",
      "Dastur tugadi\n"
     ]
    }
   ],
   "source": [
    "try:\n",
    "    son = int(input(\"Sonni kiriting: \"))\n",
    "    print(\"Kiritilgan son: \", son)\n",
    "except ValueError as e:\n",
    "    print(\"O'girish muvoffaqqiyatsiz amlaga oshiriladi\", e)\n",
    "except ZeroDivisionError as e:\n",
    "    print(\"O'girish notog'ri amalga oshirildi.\", e)\n",
    "except Exception as e:\n",
    "    print(\"Umumiy qandaydir istisno bo'ldi\", e)\n",
    "finally:\n",
    "    print(\"Shu yerda xatoliklar nima yuz berishidan qatiy nazar instruksiyani bajar\")\n",
    "\n",
    "try:    \n",
    "    son1 = int(input(\"Son 1ni kiriting: \"))\n",
    "    print(\"Kiritilgan son: \", son1)\n",
    "except ValueError as e:\n",
    "    print(\"O'girish muvoffaqqiyatsiz amlaga oshiriladi\", e)\n",
    "except ZeroDivisionError as e:\n",
    "    print(\"O'girish notog'ri amalga oshirildi.\", e)\n",
    "except Exception as e:\n",
    "    print(\"Umumiy qandaydir istisno bo'ldi\", e)\n",
    "finally:\n",
    "    print(\"Shu yerda xatoliklar nima yuz berishidan qatiy nazar instruksiyani bajar\")\n",
    "\n",
    "\n",
    "print(\"Dastur tugadi\")"
   ]
  },
  {
   "cell_type": "code",
   "execution_count": null,
   "id": "parliamentary-steel",
   "metadata": {},
   "outputs": [],
   "source": []
  }
 ],
 "metadata": {
  "kernelspec": {
   "display_name": "Python 3",
   "language": "python",
   "name": "python3"
  },
  "language_info": {
   "codemirror_mode": {
    "name": "ipython",
    "version": 3
   },
   "file_extension": ".py",
   "mimetype": "text/x-python",
   "name": "python",
   "nbconvert_exporter": "python",
   "pygments_lexer": "ipython3",
   "version": "3.8.6"
  }
 },
 "nbformat": 4,
 "nbformat_minor": 5
}
