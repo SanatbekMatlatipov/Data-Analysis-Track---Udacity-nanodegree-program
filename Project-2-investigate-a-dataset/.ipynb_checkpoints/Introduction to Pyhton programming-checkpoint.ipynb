{
 "cells": [
  {
   "cell_type": "markdown",
   "id": "57d8e249",
   "metadata": {},
   "source": [
    "## Data types and operators\n",
    "    Data Types: Integers, Floats, Booleans, Strings\n",
    "    Operators: Arithmetic, Assignment, Comparison, Logical\n",
    "    Built-In Functions, Type Conversion\n",
    "    Whitespace and Style Guidelines\n",
    "### Arithmetic Operators\n",
    "Arithmetic operators\n",
    "\n",
    "+ Addition\n",
    "- Subtraction\n",
    "* Multiplication<br> \n",
    "**Exponentiation (note that ^ does not do this operation, as you might have seen in other languages)<br>\n",
    "// Divides and rounds down to the nearest integer\n",
    "% Mod (the remainder after dividing)<br>\n",
    "`\\`Division\n",
    "\n",
    "\n",
    "The usual order of mathematical operations holds in Python, which you can review in this Math Forum page if needed.\n",
    "\n",
    "Bitwise operators are special operators in Python that you can learn more about here if you'd like."
   ]
  },
  {
   "cell_type": "markdown",
   "id": "e6a8769d",
   "metadata": {},
   "source": [
    "### Quiz: Average Electricity Bill\n",
    "It's time to try a calculation in Python!\n",
    "\n",
    "My electricity bills for the last three months have been $23, $32 and $64. What is the average monthly electricity bill over the three month period? Write an expression to calculate the mean, and use `print()` to view the result."
   ]
  },
  {
   "cell_type": "code",
   "execution_count": 1,
   "id": "5b64c76e",
   "metadata": {},
   "outputs": [
    {
     "name": "stdout",
     "output_type": "stream",
     "text": [
      "39.666666666666664\n"
     ]
    }
   ],
   "source": [
    "# Write an expression that calculates the average of 23, 32 and 64\n",
    "# Place the expression in this print statement\n",
    "print((23 + 32 + 64) / 3)"
   ]
  },
  {
   "cell_type": "markdown",
   "id": "6a8a4aee",
   "metadata": {},
   "source": [
    "### Quiz: Calculate\n",
    "In this quiz you're going to do some calculations for a tiler. Two parts of a floor need tiling. One part is 9 tiles wide by 7 tiles long, the other is 5 tiles wide by 7 tiles long. Tiles come in packages of 6.\n",
    "\n",
    "    How many tiles are needed?\n",
    "    You buy 17 packages of tiles containing 6 tiles each. How many tiles will be left over?"
   ]
  },
  {
   "cell_type": "code",
   "execution_count": 1,
   "id": "86ca0793",
   "metadata": {},
   "outputs": [
    {
     "name": "stdout",
     "output_type": "stream",
     "text": [
      "98\n",
      "4\n"
     ]
    }
   ],
   "source": [
    "# Fill this in with an expression that calculates how many tiles are needed.\n",
    "a = 9*7 + 5*7\n",
    "print(a)\n",
    "\n",
    "# Fill this in with an expression that calculates how many tiles will be left over.\n",
    "print(17*6 - (a))"
   ]
  },
  {
   "cell_type": "markdown",
   "id": "e6522cbf",
   "metadata": {},
   "source": [
    "### Variables and Assignment Operators\n",
    "#### Variables I\n",
    "Variables are used all the time in Python! Below is the example you saw in the video where we performed the following:\n",
    "\n",
    "`mv_population = 74728`\n",
    "\n",
    "Here `mv_population` is a variable, which holds the value of `74728`. This assigns the item on the right to the name on the left, which is actually a little different than mathematical equality, as `74728` does not hold the value of `mv_population`.\n",
    "\n",
    "In any case, whatever term is on the left side, is now a name for whatever value is on the right side. Once a value has been assigned to a variable name, you can access the value from the variable name."
   ]
  },
  {
   "cell_type": "code",
   "execution_count": 2,
   "id": "d03b0295",
   "metadata": {},
   "outputs": [
    {
     "name": "stdout",
     "output_type": "stream",
     "text": [
      "2\n",
      "3\n",
      "5\n"
     ]
    }
   ],
   "source": [
    "x, y, z = 2, 3, 5\n",
    "print(x)\n",
    "print(y)\n",
    "print(z)\n",
    "# be descriptive, do not use x,y,z instead use exact names like mv_population = 74728\n"
   ]
  },
  {
   "cell_type": "markdown",
   "id": "2da2b38a",
   "metadata": {},
   "source": []
  }
 ],
 "metadata": {
  "kernelspec": {
   "display_name": "Python 3",
   "language": "python",
   "name": "python3"
  },
  "language_info": {
   "codemirror_mode": {
    "name": "ipython",
    "version": 3
   },
   "file_extension": ".py",
   "mimetype": "text/x-python",
   "name": "python",
   "nbconvert_exporter": "python",
   "pygments_lexer": "ipython3",
   "version": "3.8.8"
  }
 },
 "nbformat": 4,
 "nbformat_minor": 5
}
