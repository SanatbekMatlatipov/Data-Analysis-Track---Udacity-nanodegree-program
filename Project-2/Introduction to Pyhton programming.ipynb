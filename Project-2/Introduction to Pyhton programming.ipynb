{
 "cells": [
  {
   "cell_type": "markdown",
   "id": "57d8e249",
   "metadata": {},
   "source": [
    "## Data types and operators\n",
    "    Data Types: Integers, Floats, Booleans, Strings\n",
    "    Operators: Arithmetic, Assignment, Comparison, Logical\n",
    "    Built-In Functions, Type Conversion\n",
    "    Whitespace and Style Guidelines\n",
    "### Arithmetic Operators\n",
    "Arithmetic operators\n",
    "\n",
    "+ Addition\n",
    "- Subtraction\n",
    "* Multiplication<br> \n",
    "**Exponentiation (note that ^ does not do this operation, as you might have seen in other languages)<br>\n",
    "// Divides and rounds down to the nearest integer\n",
    "% Mod (the remainder after dividing)<br>\n",
    "`\\`Division\n",
    "\n",
    "\n",
    "The usual order of mathematical operations holds in Python, which you can review in this Math Forum page if needed.\n",
    "\n",
    "Bitwise operators are special operators in Python that you can learn more about here if you'd like."
   ]
  },
  {
   "cell_type": "markdown",
   "id": "e6a8769d",
   "metadata": {},
   "source": [
    "### Quiz: Average Electricity Bill\n",
    "It's time to try a calculation in Python!\n",
    "\n",
    "My electricity bills for the last three months have been $23, $32 and $64. What is the average monthly electricity bill over the three month period? Write an expression to calculate the mean, and use `print()` to view the result."
   ]
  },
  {
   "cell_type": "code",
   "execution_count": 1,
   "id": "5b64c76e",
   "metadata": {},
   "outputs": [
    {
     "name": "stdout",
     "output_type": "stream",
     "text": [
      "39.666666666666664\n"
     ]
    }
   ],
   "source": [
    "# Write an expression that calculates the average of 23, 32 and 64\n",
    "# Place the expression in this print statement\n",
    "print((23 + 32 + 64) / 3)"
   ]
  },
  {
   "cell_type": "markdown",
   "id": "6a8a4aee",
   "metadata": {},
   "source": [
    "### Quiz: Calculate\n",
    "In this quiz you're going to do some calculations for a tiler. Two parts of a floor need tiling. One part is 9 tiles wide by 7 tiles long, the other is 5 tiles wide by 7 tiles long. Tiles come in packages of 6.\n",
    "\n",
    "    How many tiles are needed?\n",
    "    You buy 17 packages of tiles containing 6 tiles each. How many tiles will be left over?"
   ]
  },
  {
   "cell_type": "code",
   "execution_count": 1,
   "id": "86ca0793",
   "metadata": {},
   "outputs": [
    {
     "name": "stdout",
     "output_type": "stream",
     "text": [
      "98\n",
      "4\n"
     ]
    }
   ],
   "source": [
    "# Fill this in with an expression that calculates how many tiles are needed.\n",
    "a = 9*7 + 5*7\n",
    "print(a)\n",
    "\n",
    "# Fill this in with an expression that calculates how many tiles will be left over.\n",
    "print(17*6 - (a))"
   ]
  },
  {
   "cell_type": "markdown",
   "id": "d2626df4",
   "metadata": {},
   "source": [
    "### Variables and Assignment Operators\n",
    "#### Variables I\n",
    "Variables are used all the time in Python! Below is the example you saw in the video where we performed the following:\n",
    "\n",
    "`mv_population = 74728`\n",
    "\n",
    "Here `mv_population` is a variable, which holds the value of `74728`. This assigns the item on the right to the name on the left, which is actually a little different than mathematical equality, as `74728` does not hold the value of `mv_population`.\n",
    "\n",
    "In any case, whatever term is on the left side, is now a name for whatever value is on the right side. Once a value has been assigned to a variable name, you can access the value from the variable name."
   ]
  },
  {
   "cell_type": "code",
   "execution_count": 2,
   "id": "1b20a43a",
   "metadata": {},
   "outputs": [
    {
     "name": "stdout",
     "output_type": "stream",
     "text": [
      "2\n",
      "3\n",
      "5\n"
     ]
    }
   ],
   "source": [
    "x, y, z = 2, 3, 5\n",
    "print(x)\n",
    "print(y)\n",
    "print(z)\n",
    "# be descriptive, do not use x,y,z instead use exact names like mv_population = 74728\n"
   ]
  },
  {
   "cell_type": "markdown",
   "id": "fcb09ffd",
   "metadata": {},
   "source": [
    "#### Variables II\n",
    "In this video you saw that the following two are equivalent in terms of assignment:\n",
    "```\n",
    "x = 3\n",
    "y = 4\n",
    "z = 5\n",
    "```\n",
    "and \n",
    "```\n",
    "x, y, z = 3, 4, 5\n",
    "```\n",
    "However, the above isn't a great way to assign variables in most cases, because our variable names should be descriptive of the values they hold.\n",
    "\n",
    "Besides writing variable names that are descriptive, there are a few things to watch out for when naming variables in Python.\n",
    "\n",
    "1. Only use ordinary letters, numbers and underscores in your variable names. They can’t have spaces, and need to start with a letter or underscore.\n",
    "\n",
    "2. You can’t use Python's <b>reserved words</b>, or <b>\"keywords,\"</b> as variable names. There are reserved words in every programming language that have important purposes, and you’ll learn about some of these throughout this course. Creating names that are descriptive of the values often will help you avoid using any of these keywords. Here you can see a table of Python's reserved words.\n",
    "\n",
    "3. The pythonic way to name variables is to use all lowercase letters and underscores to separate words.\n",
    "\n",
    "<b>YES</b>\n",
    "```\n",
    "my_height = 58\n",
    "my_lat = 40\n",
    "my_long = 105\n",
    "```\n",
    "<b>NO</b>\n",
    "```\n",
    "my height = 58\n",
    "MYLONG = 40\n",
    "MyLat = 105\n",
    "```\n",
    "Though the last two of these would work in python, they are not pythonic ways to name variables. The way we name variables is called snake case, because we tend to connect the words with underscores."
   ]
  },
  {
   "cell_type": "markdown",
   "id": "6ef33550",
   "metadata": {},
   "source": [
    "#### Assignment Operators\n",
    "Below are the assignment operators from the video. You can also use *= in a similar way, but this is less common than the operations shown below. You can find some practice with much of what we have already covered (here)https://www.programiz.com/python-programming/operators."
   ]
  },
  {
   "cell_type": "markdown",
   "id": "93206c7c",
   "metadata": {},
   "source": [
    "#### Quiz: Assign and Modify Variables\n",
    "Now it's your turn to work with variables. The comments in this quiz (the lines that begin with #) have instructions for creating and modifying variables. After each comment write a line of code that implements the instruction.\n",
    "\n",
    "Note that this code uses [scientific notation](https://en.wikipedia.org/wiki/Scientific_notation) to define large numbers. `4.445e8` is equal to `4.445 * 10 ** 8` which is equal to `444500000.0`."
   ]
  },
  {
   "cell_type": "code",
   "execution_count": 5,
   "id": "0a195901",
   "metadata": {},
   "outputs": [
    {
     "name": "stdout",
     "output_type": "stream",
     "text": [
      "447627500.0\n"
     ]
    }
   ],
   "source": [
    "# The current volume of a water reservoir (in cubic metres)\n",
    "reservoir_volume = 4.445e8\n",
    "# The amount of rainfall from a storm (in cubic metres)\n",
    "rainfall = 5e6\n",
    "\n",
    "# decrease the rainfall variable by 10% to account for runoff\n",
    "rainfall -= (0.1 * rainfall)\n",
    "\n",
    "# add the rainfall variable to the reservoir_volume variable\n",
    "reservoir_volume += rainfall\n",
    "\n",
    "# increase reservoir_volume by 5% to account for stormwater that flows\n",
    "# into the reservoir in the days following the storm\n",
    "reservoir_volume += (0.05 * reservoir_volume)\n",
    "\n",
    "# decrease reservoir_volume by 5% to account for evaporation\n",
    "reservoir_volume -= (0.05 * reservoir_volume)\n",
    "\n",
    "# subtract 2.5e5 cubic metres from reservoir_volume to account for water\n",
    "# that's piped to arid regions.\n",
    "reservoir_volume -= 2.5e5\n",
    "\n",
    "# print the new value of the reservoir_volume variable\n",
    "print(reservoir_volume)"
   ]
  },
  {
   "cell_type": "markdown",
   "id": "ccc5268c",
   "metadata": {},
   "source": [
    "#### Quiz: Changing Variable Values\n",
    "How does changing the value of a variable affect another variable that was defined in terms of it? Let's look at an example.\n",
    "\n",
    "We're intentionally not providing a place to execute the code here, because we want to help you practice the important skill of walking through lines of code by hand.\n",
    "\n",
    "Each line of code executes in order, one at a time, with control going from one line to the next.\n",
    "\n",
    "```\n",
    ">>> carrots = 24\n",
    ">>> rabbits = 8\n",
    ">>> crs_per_rab = carrots/rabbits\n",
    "```\n",
    "Now we add a new 4th line to this code, that assigns a new value to the `rabbits` variable:\n",
    "\n",
    "```\n",
    ">>> rabbits = 12\n",
    "```\n",
    "If we now add this new 5th line of code to the above, what will the output be?\n",
    "\n",
    ">>> print(crs_per_rab)   \n",
    "Answer: 3.0\n",
    "\n",
    "QUESTION 3 OF 3\n",
    "Here is a list of U.S. states in order of the date they entered the Union. Say you wanted to create a variable for Delaware and assign it a value to signify that it joined the Union first. Which of the following are valid variable names and assignments in Python?\n"
   ]
  },
  {
   "cell_type": "markdown",
   "id": "453da280",
   "metadata": {},
   "source": [
    "#### Integers and Floats\n",
    "There are two Python data types that could be used for numeric values:\n",
    "\n",
    " - <b>int</b> - for integer values\n",
    " - <b>float</b> - for decimal or floating point values\n",
    "You can create a value that follows the data type by using the following syntax:\n",
    "\n",
    "``` \n",
    "x = int(4.7)   # x is now an integer 4\n",
    "y = float(4)   # y is now a float of 4.0\n",
    "```\n",
    "You can check the type by using the type function:\n",
    "```\n",
    ">>> print(type(x))\n",
    "int\n",
    ">>> print(type(y))\n",
    "float\n",
    "```\n",
    "Because the float, or approximation, for 0.1 is actually slightly more than 0.1, when we add several of them together we can see the difference between the mathematically correct answer and the one that Python creates.\n",
    "\n",
    "```\n",
    ">>> print(.1 + .1 + .1 == .3)\n",
    "False\n",
    "```"
   ]
  },
  {
   "cell_type": "code",
   "execution_count": 10,
   "id": "5fcbf294",
   "metadata": {},
   "outputs": [
    {
     "name": "stdout",
     "output_type": "stream",
     "text": [
      "0.5\n"
     ]
    }
   ],
   "source": [
    "print(.1 + .1 + .1 + .1 + .1)"
   ]
  },
  {
   "cell_type": "code",
   "execution_count": 12,
   "id": "14248061",
   "metadata": {},
   "outputs": [
    {
     "data": {
      "text/plain": [
       "True"
      ]
     },
     "execution_count": 12,
     "metadata": {},
     "output_type": "execute_result"
    }
   ],
   "source": [
    "#usefull. https://docs.python.org/3/tutorial/floatingpoint.html\n",
    "round(.1 + .1 + .1, 10) == round(.3, 10)"
   ]
  },
  {
   "cell_type": "markdown",
   "id": "c9ff5166",
   "metadata": {},
   "source": [
    "##### Python Best Practices\n",
    "For all the best practices, see the PEP8 Guidelines(https://www.python.org/dev/peps/pep-0008/).\n",
    "\n",
    "You can use the atom package linter-python-pep8(https://atom.io/packages/linter-python-pep8) to use pep8 within your own programming environment in the Atom text editor, but more on this later. If you aren't familiar with text editors yet, and you are performing all of your programming in the classroom, no need to worry about this right now.\n",
    "\n",
    "Follow these guidelines to make other programmers and future you happy!\n",
    "\n",
    "Good\n",
    "```\n",
    "print(4 + 5)\n",
    "```\n",
    "Bad\n",
    "```\n",
    "print(                       4 + 5)\n",
    "```\n",
    "You should limit each line of code to 80 characters, though 99 is okay for certain use cases. You can thank IBM for this ruling.\n",
    "\n",
    "Why are these conventions important? Although how you format the code doesn’t affect how it runs, following standard style guidelines makes code easier to read and consistent among different developers on a team."
   ]
  },
  {
   "cell_type": "markdown",
   "id": "18c011b8",
   "metadata": {},
   "source": [
    "#### Booleans, Comparison Operators, and Logical Operators\n",
    "The bool data type holds one of the values `True` or `False`, which are often encoded as `1` or `0`, respectively.\n",
    "\n",
    "There are 6 comparison operators that are common to see in order to obtain a `bool` value:\n",
    "\n",
    "Comparison Operators\n",
    "\n",
    "| Symbol Use Case | Bool | Operation |\n",
    "|  --- | ---| --- |\n",
    "| 5 < 3 | False | Less Than |\n",
    "| 5 > 3 | True | Greater Than |\n",
    "| 3 <= 3\t| True\t| Less Than or Equal To |\n",
    "|3 >= 5\t| False\t| Greater Than or Equal To |\n",
    "| 3 == 5 |\tFalse\t| Equal To|\n",
    "| 3 != 5\t|True |\tNot Equal To|\n",
    "\n",
    "And there are three logical operators you need to be familiar with:\n",
    "\n",
    "| Logical Use | Bool | Operation |\n",
    "|  --- | ---| --- |\n",
    "| 5 < 3 and 5 == 5 | False | and - Evaluates if all provided statements are True |\n",
    "| 5 < 3 or 5 == 5 | True | or - Evaluates if at least one of many statements is True |\n",
    "| not 5 < 3\t| True\t| not - Flips the Bool Value |\t\t\n",
    "\t\t\n",
    "Here is more information on how George Boole changed the world!"
   ]
  },
  {
   "cell_type": "markdown",
   "id": "b08c815f",
   "metadata": {},
   "source": [
    "#### Quiz: Which is denser, Rio or San Francisco?\n",
    "Try comparison operators in this quiz! This code calculates the population densities of Rio de Janeiro and San Francisco.\n",
    "\n",
    "Write code to compare these densities. Is the population of San Francisco more dense than that of Rio de Janeiro? Print True if it is and False if not."
   ]
  },
  {
   "cell_type": "code",
   "execution_count": 1,
   "id": "49bd7b74",
   "metadata": {},
   "outputs": [
    {
     "name": "stdout",
     "output_type": "stream",
     "text": [
      "False\n"
     ]
    }
   ],
   "source": [
    "sf_population, sf_area = 864816, 231.89\n",
    "rio_population, rio_area = 6453682, 486.5\n",
    "\n",
    "san_francisco_pop_density = sf_population/sf_area\n",
    "rio_de_janeiro_pop_density = rio_population/rio_area\n",
    "\n",
    "# Write code that prints True if San Francisco is denser than Rio, and False otherwise\n",
    "print(san_francisco_pop_density > san_francisco_pop_density )"
   ]
  },
  {
   "cell_type": "markdown",
   "id": "bda5a246",
   "metadata": {},
   "source": [
    "#### Strings\n",
    "Strings in Python are shown as the variable type str. You can define a string with either double quotes \" or single quotes '. If the string you are creating actually has one of these two values in it, then you need to be careful to assure your code doesn't give an error.\n",
    "\n",
    "```\n",
    ">>> my_string = 'this is a string!'\n",
    ">>> my_string2 = \"this is also a string!!!\"\n",
    "```\n",
    "You can also include a \\ in your string to be able to include one of these quotes:\n",
    "\n",
    "```\n",
    ">>> this_string = 'Simon\\'s skateboard is in the garage.'\n",
    ">>> print(this_string)\n",
    "```\n",
    "```\n",
    "Simon's skateboard is in the garage.\n",
    "```\n",
    "If we don't use this, notice we get the following error:\n",
    "\n",
    "```\n",
    ">>> this_string = 'Simon's skateboard is in the garage.'\n",
    "  File \"<ipython-input-20-e80562c2a290>\", line 1\n",
    "    this_string = 'Simon's skateboard is in the garage.'\n",
    "                         ^\n",
    "SyntaxError: invalid syntax\n",
    "```\n",
    "The color highlighting is also an indication of the error you have in your string in this second case. There are a number of other operations you can use with strings as well. In this video you saw a few:\n",
    "\n",
    "```\n",
    ">>> first_word = 'Hello'\n",
    ">>> second_word = 'There'\n",
    ">>> print(first_word + second_word)\n",
    "\n",
    "HelloThere\n",
    "\n",
    ">>> print(first_word + ' ' + second_word)\n",
    "\n",
    "Hello There\n",
    "\n",
    ">>> print(first_word * 5)\n",
    "\n",
    "HelloHelloHelloHelloHello\n",
    "\n",
    ">>> print(len(first_word))\n",
    "\n",
    "5\n",
    "```\n",
    "Unlike the other data types you have seen so far, you can also index into strings, but you will see more on this soon! For now, here is a small example. Notice Python uses 0 indexing - we will discuss this later in this lesson in detail.\n",
    "```\n",
    ">>> first_word[0]\n",
    "\n",
    "H\n",
    "\n",
    ">>> first_word[1]\n",
    "\n",
    "e\n",
    "```\n",
    "##### The len() function\n",
    "len() is a built-in Python function that returns the length of an object, like a string. The length of a string is the number of characters in the string. This will always be an integer.\n",
    "\n",
    "There is an example above, but here's another one:\n",
    "\n",
    "```\n",
    "print(len(\"ababa\") / len(\"ab\"))\n",
    "2.5\n",
    "```\n",
    "You know what the data types are for `len(\"ababa\")` and `len(\"ab\")`. Notice the data type of their resulting quotient here.\n"
   ]
  },
  {
   "cell_type": "markdown",
   "id": "ee3742fd",
   "metadata": {},
   "source": [
    "#### Quiz: Fix the Quote\n",
    "The line of code in the following quiz will cause a SyntaxError, thanks to the misuse of quotation marks. First run it with Test Run to view the error message. Then resolve the problem so that the quote (from Henry Ford) is correctly assigned to the variable ford_quote."
   ]
  },
  {
   "cell_type": "code",
   "execution_count": 2,
   "id": "3281794b",
   "metadata": {},
   "outputs": [],
   "source": [
    "# TODO: Fix this string!\n",
    "ford_quote = 'Whether you think you can, or you think you can\\'t--you\\'re right.'"
   ]
  },
  {
   "cell_type": "markdown",
   "id": "9ceb9b3c",
   "metadata": {},
   "source": [
    "#### Quiz: Write a Server Log Message\n",
    "In this programming quiz, you’re going to use what you’ve learned about strings to write a logging message for a server.\n",
    "\n",
    "You’ll be provided with example data for a user, the time of their visit and the site they accessed. You should use the variables provided and the techniques you’ve learned to print a log message like this one (with the username, url, and timestamp replaced with values from the appropriate variables):\n",
    "\n",
    "Yogesh accessed the site http://petshop.com/pets/reptiles/pythons at 16:20.\n",
    "\n",
    "Use the Test Run button to see your results as you work on coding this piece by piece."
   ]
  },
  {
   "cell_type": "code",
   "execution_count": 3,
   "id": "3aaba48b",
   "metadata": {},
   "outputs": [
    {
     "name": "stdout",
     "output_type": "stream",
     "text": [
      "Kinari accessed the site http://petshop.com/pets/mammals/cats at 04:50.\n"
     ]
    }
   ],
   "source": [
    "username = \"Kinari\"\n",
    "timestamp = \"04:50\"\n",
    "url = \"http://petshop.com/pets/mammals/cats\"\n",
    "\n",
    "# TODO: print a log message using the variables above.\n",
    "# The message should have the same format as this one:\n",
    "# \"Yogesh accessed the site http://petshop.com/pets/reptiles/pythons at 16:20.\"\n",
    "\n",
    "print (\"{} accessed the site {} at {}.\".format(username, url, timestamp))"
   ]
  },
  {
   "cell_type": "markdown",
   "id": "ebaaec10",
   "metadata": {},
   "source": [
    "#### Quiz: len()\n",
    "Use string concatenation and the len() function to find the length of a certain movie star's actual full name. Store that length in the name_length variable. Don't forget that there are spaces in between the different parts of a name!"
   ]
  },
  {
   "cell_type": "code",
   "execution_count": 4,
   "id": "8b64cfa8",
   "metadata": {},
   "outputs": [
    {
     "name": "stdout",
     "output_type": "stream",
     "text": [
      "True\n"
     ]
    }
   ],
   "source": [
    "given_name = \"William\"\n",
    "middle_names = \"Bradley\"\n",
    "family_name = \"Pitt\"\n",
    "\n",
    "full_name = given_name + \" \" + middle_names + \" \" + family_name\n",
    "\n",
    "name_length = len(full_name)\n",
    "\n",
    "# Now we check to make sure that the name fits within the driving license character limit\n",
    "# Nothing you need to do here\n",
    "driving_license_character_limit = 28\n",
    "print(name_length <= driving_license_character_limit)"
   ]
  },
  {
   "cell_type": "code",
   "execution_count": 5,
   "id": "0fba0478",
   "metadata": {},
   "outputs": [
    {
     "ename": "TypeError",
     "evalue": "object of type 'int' has no len()",
     "output_type": "error",
     "traceback": [
      "\u001b[0;31m---------------------------------------------------------------------------\u001b[0m",
      "\u001b[0;31mTypeError\u001b[0m                                 Traceback (most recent call last)",
      "\u001b[0;32m<ipython-input-5-81ac05ac612b>\u001b[0m in \u001b[0;36m<module>\u001b[0;34m\u001b[0m\n\u001b[0;32m----> 1\u001b[0;31m \u001b[0mprint\u001b[0m\u001b[0;34m(\u001b[0m\u001b[0mlen\u001b[0m\u001b[0;34m(\u001b[0m\u001b[0;36m835\u001b[0m\u001b[0;34m)\u001b[0m\u001b[0;34m)\u001b[0m\u001b[0;34m\u001b[0m\u001b[0;34m\u001b[0m\u001b[0m\n\u001b[0m",
      "\u001b[0;31mTypeError\u001b[0m: object of type 'int' has no len()"
     ]
    }
   ],
   "source": [
    "print(len(835))"
   ]
  },
  {
   "cell_type": "code",
   "execution_count": null,
   "id": "8ad568a9",
   "metadata": {},
   "outputs": [],
   "source": []
  }
 ],
 "metadata": {
  "kernelspec": {
   "display_name": "Python 3",
   "language": "python",
   "name": "python3"
  },
  "language_info": {
   "codemirror_mode": {
    "name": "ipython",
    "version": 3
   },
   "file_extension": ".py",
   "mimetype": "text/x-python",
   "name": "python",
   "nbconvert_exporter": "python",
   "pygments_lexer": "ipython3",
   "version": "3.8.8"
  }
 },
 "nbformat": 4,
 "nbformat_minor": 5
}
